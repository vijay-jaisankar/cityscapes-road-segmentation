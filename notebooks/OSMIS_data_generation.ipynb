{
  "nbformat": 4,
  "nbformat_minor": 0,
  "metadata": {
    "colab": {
      "provenance": [],
      "gpuType": "V100"
    },
    "kernelspec": {
      "name": "python3",
      "display_name": "Python 3"
    },
    "language_info": {
      "name": "python"
    },
    "accelerator": "GPU"
  },
  "cells": [
    {
      "cell_type": "markdown",
      "source": [
        "## Connect to drive"
      ],
      "metadata": {
        "id": "FvvRPAiT13v4"
      }
    },
    {
      "cell_type": "code",
      "execution_count": 1,
      "metadata": {
        "colab": {
          "base_uri": "https://localhost:8080/"
        },
        "id": "s2R4DKdF1TQt",
        "outputId": "77dcdac4-0c38-4b47-8d71-352696c056d6"
      },
      "outputs": [
        {
          "output_type": "stream",
          "name": "stdout",
          "text": [
            "Drive already mounted at /content/drive; to attempt to forcibly remount, call drive.mount(\"/content/drive\", force_remount=True).\n"
          ]
        }
      ],
      "source": [
        "from google.colab import drive\n",
        "drive.mount('/content/drive')"
      ]
    },
    {
      "cell_type": "markdown",
      "source": [
        "## Set up conda"
      ],
      "metadata": {
        "id": "zI7-sk9L2drx"
      }
    },
    {
      "cell_type": "code",
      "source": [
        "!pip install -q condacolab\n",
        "import condacolab\n",
        "condacolab.install()"
      ],
      "metadata": {
        "colab": {
          "base_uri": "https://localhost:8080/"
        },
        "id": "e6iWTrT42Lve",
        "outputId": "fdf44cbf-39c9-41b5-adba-8656f38bb6c1"
      },
      "execution_count": 2,
      "outputs": [
        {
          "output_type": "stream",
          "name": "stdout",
          "text": [
            "⏬ Downloading https://github.com/conda-forge/miniforge/releases/download/23.1.0-1/Mambaforge-23.1.0-1-Linux-x86_64.sh...\n",
            "📦 Installing...\n",
            "📌 Adjusting configuration...\n",
            "🩹 Patching environment...\n",
            "⏲ Done in 0:00:11\n",
            "🔁 Restarting kernel...\n"
          ]
        }
      ]
    },
    {
      "cell_type": "code",
      "source": [
        "!conda info | grep -i 'base environment'"
      ],
      "metadata": {
        "colab": {
          "base_uri": "https://localhost:8080/"
        },
        "id": "8WYNiA-S2fLn",
        "outputId": "2983a025-b032-4bae-ca6c-d08cb2fa085a"
      },
      "execution_count": 2,
      "outputs": [
        {
          "output_type": "stream",
          "name": "stdout",
          "text": [
            "       base environment : /usr/local  (writable)\n"
          ]
        }
      ]
    },
    {
      "cell_type": "code",
      "source": [
        "!source /usr/local/etc/profile.d/conda.sh"
      ],
      "metadata": {
        "id": "9Xs-DAi72ws_"
      },
      "execution_count": 3,
      "outputs": []
    },
    {
      "cell_type": "markdown",
      "source": [
        "## Create the conda environment"
      ],
      "metadata": {
        "id": "33pLSvoB27Cz"
      }
    },
    {
      "cell_type": "code",
      "source": [
        "%cd /content/drive/MyDrive/kitti-dataset-experiments/one-shot-synthesis/"
      ],
      "metadata": {
        "colab": {
          "base_uri": "https://localhost:8080/"
        },
        "id": "gQNETrNr21r8",
        "outputId": "44ab30ac-df88-48be-ded8-24e69bb4da2c"
      },
      "execution_count": 4,
      "outputs": [
        {
          "output_type": "stream",
          "name": "stdout",
          "text": [
            "/content/drive/MyDrive/kitti-dataset-experiments/one-shot-synthesis\n"
          ]
        }
      ]
    },
    {
      "cell_type": "code",
      "source": [
        "!conda env create --file environment.yml"
      ],
      "metadata": {
        "colab": {
          "base_uri": "https://localhost:8080/"
        },
        "id": "RQmVGp3k3HZ6",
        "outputId": "c7c7944e-dbe2-41e7-9f10-137da807e0b8"
      },
      "execution_count": null,
      "outputs": [
        {
          "output_type": "stream",
          "name": "stdout",
          "text": [
            "Collecting package metadata (repodata.json): - \b\b\\ \b\b| \b\b/ \b\b- \b\b\\ \b\b| \b\b/ \b\b- \b\b\\ \b\b| \b\b/ \b\b- \b\b\\ \b\b| \b\b/ \b\b- \b\b\\ \b\b| \b\b/ \b\b- \b\b\\ \b\b| \b\b/ \b\b- \b\b\\ \b\b| \b\b/ \b\b- \b\b\\ \b\b| \b\b/ \b\b- \b\b\\ \b\b| \b\b/ \b\b- \b\b\\ \b\b| \b\b/ \b\b- \b\b\\ \b\b| \b\b/ \b\b- \b\b\\ \b\b| \b\b/ \b\b- \b\b\\ \b\b| \b\b/ \b\b- \b\b\\ \b\b| \b\b/ \b\b- \b\b\\ \b\b| \b\b/ \b\b- \b\b\\ \b\b| \b\b/ \b\b- \b\b\\ \b\b| \b\b/ \b\b- \b\b\\ \b\b| \b\b/ \b\b- \b\b\\ \b\b| \b\b/ \b\b- \b\b\\ \b\b| \b\b/ \b\b- \b\b\\ \b\b| \b\b/ \b\b- \b\b\\ \b\b| "
          ]
        }
      ]
    },
    {
      "cell_type": "code",
      "source": [
        "!conda init bash"
      ],
      "metadata": {
        "id": "ouOzwj9m51OD"
      },
      "execution_count": null,
      "outputs": []
    },
    {
      "cell_type": "markdown",
      "source": [
        "## Train the OSMIS model"
      ],
      "metadata": {
        "id": "EuaRbrmP5JEi"
      }
    },
    {
      "cell_type": "code",
      "source": [
        "%cd /content/drive/MyDrive/kitti-dataset-experiments/one-shot-synthesis/"
      ],
      "metadata": {
        "id": "5f5aB7j76zmY"
      },
      "execution_count": null,
      "outputs": []
    },
    {
      "cell_type": "code",
      "source": [
        "!conda env list"
      ],
      "metadata": {
        "id": "dDYIPRuc8IVV"
      },
      "execution_count": null,
      "outputs": []
    },
    {
      "cell_type": "code",
      "source": [
        "!source activate osmis && python train.py --exp_name cityscapes_v1 --dataset_name cityscapes_image_masks --num_epochs 20000 --max_size 256 --use_kornia_augm --prob_augm 0.7"
      ],
      "metadata": {
        "id": "Vt0Ycfv-36nA"
      },
      "execution_count": null,
      "outputs": []
    },
    {
      "cell_type": "markdown",
      "source": [
        "## Generate 100 example images"
      ],
      "metadata": {
        "id": "odZJvlZt_G6g"
      }
    },
    {
      "cell_type": "code",
      "source": [
        "!source activate osmis && python test.py --exp_name cityscapes_v1 --which_epoch 20000"
      ],
      "metadata": {
        "id": "O7efCYi88msC"
      },
      "execution_count": null,
      "outputs": []
    },
    {
      "cell_type": "code",
      "source": [
        "!source activate osmis && python evaluate.py --exp_name cityscapes_v1 --epoch 20000"
      ],
      "metadata": {
        "id": "x_YzpoHyrW-5"
      },
      "execution_count": null,
      "outputs": []
    },
    {
      "cell_type": "code",
      "source": [],
      "metadata": {
        "id": "sozRfuONrbIq"
      },
      "execution_count": null,
      "outputs": []
    }
  ]
}